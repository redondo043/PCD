{
 "cells": [
  {
   "cell_type": "markdown",
   "id": "3de7676b-543d-4ee6-a9da-cd0cfc74b0da",
   "metadata": {},
   "source": [
    "<!-- PROFILE LINK -->\n",
    "\n",
    "<h1 style = \"text-align:center; font-size: 30px\">PROGRAMACIÓN CONCURRENTE Y DISTRIBUIDA</h1>\n",
    "<a href =\"https://github.com/redondo043\">\n",
    "<img src=\"https://avatars.githubusercontent.com/u/114176753?v=4\" style=\"float:left;vertical-align:centre\" width=\"110\" height=\"110\" title = \"Mario Redondo del Pino 05997153H\">\n",
    "<a href =\"https://github.com/redondo043?tab=repositories\">\n",
    "<img src=\"https://media-exp1.licdn.com/dms/image/C4D0BAQEu_Aa76fcmPw/company-logo_200_200/0/1630998679429?e=2159024400&v=beta&t=2feC9GG7RWCWizTqsK5HzDWB1TL2DOQuAVwnMf6FFvk\" title = \"M21\" alt=\"UE\" width=\"110\" height=\"110\" style=\"float:right;vertical-align:centre\">"
   ]
  },
  {
   "cell_type": "markdown",
   "id": "87383c1a-591a-4669-b40a-34f2c83cf6d2",
   "metadata": {},
   "source": [
    "# HANDS ON 4"
   ]
  },
  {
   "cell_type": "code",
   "execution_count": 1,
   "id": "7f44c082-fbb7-4a5b-97fd-39b76efb5928",
   "metadata": {},
   "outputs": [],
   "source": [
    "import threading, os, platform, requests, json"
   ]
  },
  {
   "cell_type": "code",
   "execution_count": 2,
   "id": "0b8f9ad7-919d-4ddb-8a7a-a40cb16d10e8",
   "metadata": {},
   "outputs": [],
   "source": [
    "numero_de_veces_hasta_matar_uem = 10000000"
   ]
  },
  {
   "cell_type": "code",
   "execution_count": 3,
   "id": "5bebf95c-c8db-45a4-82d2-7c8377bbea0a",
   "metadata": {},
   "outputs": [],
   "source": [
    "url_=\"https://portaldelestudiante.universidadeuropea.es/dashboard?mId=dashUnivUE&eId=show\""
   ]
  },
  {
   "cell_type": "markdown",
   "id": "26dca3bd-d948-4650-99a6-b368cacf44bd",
   "metadata": {},
   "source": [
    "### HTTPS CODE:"
   ]
  },
  {
   "cell_type": "markdown",
   "id": "3cf969dd-bfea-4edc-b3fb-bd6feac1afd3",
   "metadata": {},
   "source": [
    "<img src=\"https://miro.medium.com/max/920/1*w_iicbG7L3xEQTArjHUS6g.jpeg\" width=\"400\">"
   ]
  },
  {
   "cell_type": "code",
   "execution_count": 7,
   "id": "2d50b700-b574-47e4-80a4-33030d85017e",
   "metadata": {},
   "outputs": [],
   "source": [
    "def matar_uem() :\n",
    "    print(requests.get(url_))\n",
    "    threading.current_thread()"
   ]
  },
  {
   "cell_type": "code",
   "execution_count": null,
   "id": "8cb5f9af-4423-4d46-bde6-d665e03e6cec",
   "metadata": {},
   "outputs": [],
   "source": [
    "for i in range(numero_de_veces_hasta_matar_uem):\n",
    "    threading.Thread(target=matar_uem()).start()"
   ]
  },
  {
   "cell_type": "markdown",
   "id": "b8970f9f-0196-48c9-8296-63fe3ece7aaf",
   "metadata": {},
   "source": [
    "#### Al principio funciona y la salida es 200 hasta que falla con salida 400"
   ]
  },
  {
   "cell_type": "markdown",
   "id": "59109ad9-956b-4958-8f3a-7c9daf5d49d2",
   "metadata": {},
   "source": [
    "#### Esto genera una incoherencia al salir despues del error otro success enviando una respuesta posterior de algo que ha ocurrido antes"
   ]
  },
  {
   "cell_type": "code",
   "execution_count": 10,
   "id": "657cd88a-0f71-4028-997b-ead8ea003686",
   "metadata": {},
   "outputs": [],
   "source": [
    "res_=requests.get(\"https://rpubs.com/christian_sucuzhanay\") "
   ]
  },
  {
   "cell_type": "code",
   "execution_count": 12,
   "id": "1eadeea4-d084-478a-b706-d58c890e599f",
   "metadata": {},
   "outputs": [
    {
     "data": {
      "text/plain": [
       "{'Date': 'Thu, 13 Oct 2022 10:59:00 GMT', 'Content-Type': 'text/html; charset=utf-8', 'Transfer-Encoding': 'chunked', 'Connection': 'keep-alive', 'Status': '200 OK', 'Cache-Control': 'max-age=0, private, must-revalidate', 'Referrer-Policy': 'strict-origin-when-cross-origin', 'X-Permitted-Cross-Domain-Policies': 'none', 'X-XSS-Protection': '1; mode=block', 'X-Request-Id': 'c6a8811c-45fa-43f2-9969-845bd0c7f373', 'X-Download-Options': 'noopen', 'ETag': 'W/\"9ddbc8fa736e2ecf180c49af445429d2\"', 'X-Frame-Options': 'SAMEORIGIN', 'X-Runtime': '0.058375', 'X-Content-Type-Options': 'nosniff', 'Set-Cookie': '_session_id=2a43ad88543d3ba71ae6f4b41b3fdadd; path=/; HttpOnly', 'X-Powered-By': 'Phusion Passenger 6.0.2', 'Server': 'nginx/1.14.0 + Phusion Passenger 6.0.2', 'Content-Encoding': 'gzip'}"
      ]
     },
     "execution_count": 12,
     "metadata": {},
     "output_type": "execute_result"
    }
   ],
   "source": [
    "res_.headers"
   ]
  },
  {
   "cell_type": "code",
   "execution_count": null,
   "id": "8d5e0d26-3bb8-4aa1-8540-889f8138fed6",
   "metadata": {},
   "outputs": [],
   "source": []
  }
 ],
 "metadata": {
  "kernelspec": {
   "display_name": "Python 3 (ipykernel)",
   "language": "python",
   "name": "python3"
  },
  "language_info": {
   "codemirror_mode": {
    "name": "ipython",
    "version": 3
   },
   "file_extension": ".py",
   "mimetype": "text/x-python",
   "name": "python",
   "nbconvert_exporter": "python",
   "pygments_lexer": "ipython3",
   "version": "3.10.7"
  }
 },
 "nbformat": 4,
 "nbformat_minor": 5
}
