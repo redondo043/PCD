{
 "cells": [
  {
   "cell_type": "markdown",
   "id": "27f360cc-3f3e-4c72-be26-d7e8031146c8",
   "metadata": {},
   "source": [
    "<!-- PROFILE LINK -->\n",
    "\n",
    "<h1 style = \"text-align:center; font-size: 30px\">PROGRAMACIÓN CONCURRENTE Y DISTRIBUIDA</h1>\n",
    "<a href =\"https://github.com/redondo043\">\n",
    "<img src=\"https://avatars.githubusercontent.com/u/114176753?v=4\" style=\"float:left;vertical-align:centre\" width=\"110\" height=\"110\" title = \"Mario Redondo del Pino 05997153H\">\n",
    "<a href =\"https://github.com/redondo043?tab=repositories\">\n",
    "<img src=\"https://media-exp1.licdn.com/dms/image/C4D0BAQEu_Aa76fcmPw/company-logo_200_200/0/1630998679429?e=2159024400&v=beta&t=2feC9GG7RWCWizTqsK5HzDWB1TL2DOQuAVwnMf6FFvk\" title = \"M21\" alt=\"UE\" width=\"110\" height=\"110\" style=\"float:right;vertical-align:centre\">"
   ]
  },
  {
   "cell_type": "markdown",
   "id": "74dc8130-877f-4373-b24f-a1311f364a89",
   "metadata": {},
   "source": [
    "# Parte 1"
   ]
  },
  {
   "cell_type": "code",
   "execution_count": null,
   "id": "099811bb-dae4-4e40-87fc-1d1b8694cb22",
   "metadata": {},
   "outputs": [],
   "source": [
    "import threading, os, platform, requests, json\n",
    "hilo_1=100\n",
    "hilo_2=50\n",
    "hilo_3=20\n",
    "hilo_4=30\n",
    "url_1=\"https://github.com/sukuzhanay\"\n",
    "url_2=\"https://www.linkedin.com/in/sucuzhanay\"\n",
    "url_3=\"https://www.credly.com/users/christian-vladimir-sucuzhanay-arevalo/badge\"\n",
    "url_4=\"https://stackoverflow.com/users/6025932/christian-vladimir-sucuzhanay\"\n",
    "url_5=\"https://www.cloudskillsboost.google/public_profiles/c094dd66-f266-4f77-a808-a0601b187009\""
   ]
  },
  {
   "cell_type": "code",
   "execution_count": null,
   "id": "eb78366b-ac85-4182-b78c-ae78985e8050",
   "metadata": {},
   "outputs": [],
   "source": [
    "def matar_1() :\n",
    "    print(requests.get(url_1))\n",
    "    threading.current_thread()"
   ]
  },
  {
   "cell_type": "code",
   "execution_count": null,
   "id": "1dceda02-b1a0-4cd8-a9fc-c55ba1b460d4",
   "metadata": {},
   "outputs": [],
   "source": [
    "for i in range(hilo_1):\n",
    "    threading.Thread(target=matar_1()).start()"
   ]
  },
  {
   "cell_type": "code",
   "execution_count": null,
   "id": "82e49b63-485a-4944-bb68-938941a6f777",
   "metadata": {},
   "outputs": [],
   "source": [
    "def matar_2() :\n",
    "    print(requests.get(url_2))\n",
    "    threading.current_thread()"
   ]
  },
  {
   "cell_type": "code",
   "execution_count": null,
   "id": "e66c9165-bcbd-4cc7-8132-244a48508340",
   "metadata": {},
   "outputs": [],
   "source": [
    "for i in range(hilo_2):\n",
    "    threading.Thread(target=matar_2()).start()"
   ]
  },
  {
   "cell_type": "code",
   "execution_count": null,
   "id": "1165ce74-a3c6-41c4-9faa-40cc26a5e814",
   "metadata": {},
   "outputs": [],
   "source": [
    "def matar_3() :\n",
    "    print(requests.get(url_3))\n",
    "    threading.current_thread()"
   ]
  },
  {
   "cell_type": "code",
   "execution_count": null,
   "id": "224d089b-6903-48cd-a316-9d24f1164ac4",
   "metadata": {},
   "outputs": [],
   "source": [
    "for i in range(hilo_3):\n",
    "    threading.Thread(target=matar_3()).start()\n",
    "    "
   ]
  },
  {
   "cell_type": "code",
   "execution_count": null,
   "id": "03ddd057-87c8-427b-a703-176413a4ff6e",
   "metadata": {},
   "outputs": [],
   "source": [
    "def matar_4() :\n",
    "    print(requests.get(url_4))\n",
    "    threading.current_thread()"
   ]
  },
  {
   "cell_type": "code",
   "execution_count": null,
   "id": "6d34d36b-6227-416d-ae97-a4f34c7b5cd0",
   "metadata": {},
   "outputs": [],
   "source": [
    "for i in range(hilo_4):\n",
    "    threading.Thread(target=matar_4()).start()"
   ]
  },
  {
   "cell_type": "code",
   "execution_count": null,
   "id": "d3781879-058a-42bc-822e-f8115d3532f3",
   "metadata": {},
   "outputs": [],
   "source": [
    "def matar_5() :\n",
    "    print(requests.get(url_5))\n",
    "    threading.current_thread()"
   ]
  },
  {
   "cell_type": "code",
   "execution_count": null,
   "id": "ffb0d6a8-460a-4e77-a65d-bf22169f6ca6",
   "metadata": {},
   "outputs": [],
   "source": [
    "for i in range(hilo_3):\n",
    "    threading.Thread(target=matar_5()).start()"
   ]
  },
  {
   "cell_type": "markdown",
   "id": "c3f3019a-fcce-447b-883f-85624d46d66e",
   "metadata": {},
   "source": [
    "#### Funciona?"
   ]
  },
  {
   "cell_type": "code",
   "execution_count": 36,
   "id": "70870d69-3632-4265-a766-30347c5f9d86",
   "metadata": {},
   "outputs": [],
   "source": [
    "from IPython import display as dp"
   ]
  },
  {
   "cell_type": "code",
   "execution_count": 37,
   "id": "0599a18a-2968-4816-bf39-35248a585a91",
   "metadata": {},
   "outputs": [
    {
     "data": {
      "image/png": "[encoded data removed]",
      "text/plain": [
       "<IPython.core.display.Image object>"
      ]
     },
     "execution_count": 37,
     "metadata": {},
     "output_type": "execute_result"
    }
   ],
   "source": [
    "dp.Image(\"Examen_1_parte_1.PNG\")"
   ]
  },
  {
   "cell_type": "markdown",
   "id": "27f3c182-7ec0-4bb4-9286-1556cec9bca9",
   "metadata": {},
   "source": [
    "# Parte 2"
   ]
  },
  {
   "cell_type": "code",
   "execution_count": 47,
   "id": "b122d217-3ffd-4ec0-ac92-3004e361018d",
   "metadata": {},
   "outputs": [],
   "source": [
    "import threading, os, platform, requests, json\n",
    "hilo_=5\n",
    "url_imagen = \"https://drive.google.com/uc?export=download&id=1ADxSr55eYTRSRF-44LXnKbY4n5bMWaY-\"\n",
    "nombre_imagen = \"examen\""
   ]
  },
  {
   "cell_type": "code",
   "execution_count": 50,
   "id": "5fa17621-adba-481e-8708-e4cc23df85f9",
   "metadata": {},
   "outputs": [],
   "source": [
    "def descargar() :\n",
    "    imagen = requests.get(url_imagen)\n",
    "    with open (nombre_imagen, 'wb' ) as handler:\n",
    "    handler.write(imagen)"
   ]
  },
  {
   "cell_type": "code",
   "execution_count": null,
   "id": "02b666a9-664c-4a91-bdbe-2545eaa0f030",
   "metadata": {},
   "outputs": [],
   "source": [
    "for i in range(hilo_):\n",
    "    threading.Thread(target=descargar()).start()"
   ]
  },
  {
   "cell_type": "code",
   "execution_count": null,
   "id": "2fde85ec-eaa8-4b80-bde3-df73a54777b6",
   "metadata": {},
   "outputs": [],
   "source": []
  }
 ],
 "metadata": {
  "kernelspec": {
   "display_name": "Python 3 (ipykernel)",
   "language": "python",
   "name": "python3"
  },
  "language_info": {
   "codemirror_mode": {
    "name": "ipython",
    "version": 3
   },
   "file_extension": ".py",
   "mimetype": "text/x-python",
   "name": "python",
   "nbconvert_exporter": "python",
   "pygments_lexer": "ipython3",
   "version": "3.10.7"
  }
 },
 "nbformat": 4,
 "nbformat_minor": 5
}
