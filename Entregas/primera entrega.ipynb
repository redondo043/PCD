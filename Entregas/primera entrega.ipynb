{
 "cells": [
  {
   "cell_type": "code",
   "execution_count": null,
   "id": "7bc97449-34a6-4f51-b043-1b48f5bac6c2",
   "metadata": {},
   "outputs": [],
   "source": [
    "<!-- PROFILE LINK -->\n",
    "\n",
    "<h1 style = \"text-align:center; font-size: 30px\">PROGRAMACIÓN CONCURRENTE Y DISTRIBUIDA</h1>\n",
    "<a href =\"https://github.com/redondo043\">\n",
    "<img src=\"https://avatars.githubusercontent.com/u/114176753?v=4\" style=\"float:left;vertical-align:centre\" width=\"110\" height=\"110\" title = \"Mario Redondo del Pino 05997153H\">\n",
    "<a href =\"https://github.com/redondo043?tab=repositories\">\n",
    "<img src=\"https://media-exp1.licdn.com/dms/image/C4D0BAQEu_Aa76fcmPw/company-logo_200_200/0/1630998679429?e=2159024400&v=beta&t=2feC9GG7RWCWizTqsK5HzDWB1TL2DOQuAVwnMf6FFvk\" title = \"M21\" alt=\"UE\" width=\"110\" height=\"110\" style=\"float:right;vertical-align:centre\">"
   ]
  },
  {
   "cell_type": "markdown",
   "id": "a5cc6419-d5e5-4feb-9e5d-eb63ea689766",
   "metadata": {},
   "source": [
    "# HANDS ON 1"
   ]
  },
  {
   "cell_type": "markdown",
   "id": "1c2de036-fd8a-45b3-9625-97c84050d51a",
   "metadata": {},
   "source": [
    "### Env. Setup, Important commands"
   ]
  },
  {
   "cell_type": "markdown",
   "id": "81b6f2d3-c04b-4e78-89fd-d7605a10e0c9",
   "metadata": {},
   "source": [
    "###### where I'm"
   ]
  },
  {
   "cell_type": "code",
   "execution_count": 3,
   "id": "b8e00bda-8917-4526-abc9-5783cb6e2d79",
   "metadata": {},
   "outputs": [
    {
     "name": "stdout",
     "output_type": "stream",
     "text": [
      " El volumen de la unidad C no tiene etiqueta.\n",
      " El n£mero de serie del volumen es: 8CD5-9E30\n",
      "\n",
      " Directorio de C:\\Users\\mario\n",
      "\n",
      "\n",
      " Directorio de C:\\Users\\mario\n",
      "\n"
     ]
    },
    {
     "name": "stderr",
     "output_type": "stream",
     "text": [
      "No se encuentra el archivo\n"
     ]
    }
   ],
   "source": [
    "ls #List files"
   ]
  },
  {
   "cell_type": "code",
   "execution_count": 4,
   "id": "e35650fd-14cd-4383-9473-ce54bf62bef8",
   "metadata": {},
   "outputs": [
    {
     "data": {
      "text/plain": [
       "'C:\\\\Users\\\\mario'"
      ]
     },
     "execution_count": 4,
     "metadata": {},
     "output_type": "execute_result"
    }
   ],
   "source": [
    "pwd #where I'm"
   ]
  },
  {
   "cell_type": "code",
   "execution_count": 8,
   "id": "1e2cfdab-b68e-4937-a833-c166f9c5a0f6",
   "metadata": {},
   "outputs": [
    {
     "name": "stderr",
     "output_type": "stream",
     "text": [
      "\"git\" no se reconoce como un comando interno o externo,\n",
      "programa o archivo por lotes ejecutable.\n"
     ]
    }
   ],
   "source": [
    "!git status"
   ]
  },
  {
   "cell_type": "code",
   "execution_count": 7,
   "id": "60c84a25-54bc-41f2-b52e-e3856684dab0",
   "metadata": {},
   "outputs": [
    {
     "name": "stderr",
     "output_type": "stream",
     "text": [
      "\"git\" no se reconoce como un comando interno o externo,\n",
      "programa o archivo por lotes ejecutable.\n"
     ]
    }
   ],
   "source": [
    "!git --version\n"
   ]
  },
  {
   "cell_type": "code",
   "execution_count": 9,
   "id": "258b25f3-96d2-44ca-ac0e-78e07519ae0e",
   "metadata": {},
   "outputs": [],
   "source": [
    "import os"
   ]
  },
  {
   "cell_type": "code",
   "execution_count": 10,
   "id": "a092ee87-3499-4668-b6f3-71f9a0d00994",
   "metadata": {},
   "outputs": [
    {
     "data": {
      "text/plain": [
       "12"
      ]
     },
     "execution_count": 10,
     "metadata": {},
     "output_type": "execute_result"
    }
   ],
   "source": [
    "os.cpu_count() #get total cores"
   ]
  },
  {
   "cell_type": "markdown",
   "id": "03d19d81-a91f-4cac-b2e0-41c55c57f6af",
   "metadata": {},
   "source": [
    "os.getpid() #gte process id\n"
   ]
  },
  {
   "cell_type": "markdown",
   "id": "1a26798a-c18d-48b7-be51-23047a0a85a8",
   "metadata": {},
   "source": []
  },
  {
   "cell_type": "code",
   "execution_count": 12,
   "id": "56c8656a-8e70-4af7-9b75-c2f314c1a7e5",
   "metadata": {},
   "outputs": [
    {
     "data": {
      "text/plain": [
       "7176"
      ]
     },
     "execution_count": 12,
     "metadata": {},
     "output_type": "execute_result"
    }
   ],
   "source": [
    "os.getpid() #gte process id\n"
   ]
  },
  {
   "cell_type": "code",
   "execution_count": 13,
   "id": "924f714c-040a-48e5-a5e7-be2a4ba4c3e5",
   "metadata": {},
   "outputs": [],
   "source": [
    "import platform as pl"
   ]
  },
  {
   "cell_type": "code",
   "execution_count": 14,
   "id": "4a833e29-e939-46ff-8cd9-3c10711a11ab",
   "metadata": {},
   "outputs": [
    {
     "data": {
      "text/plain": [
       "'3.10.7'"
      ]
     },
     "execution_count": 14,
     "metadata": {},
     "output_type": "execute_result"
    }
   ],
   "source": [
    "pl.python_version()"
   ]
  },
  {
   "cell_type": "code",
   "execution_count": 15,
   "id": "98efbfd6-d423-4b7f-922f-30ea3354e155",
   "metadata": {},
   "outputs": [
    {
     "data": {
      "text/plain": [
       "'C:\\\\Users\\\\mario'"
      ]
     },
     "execution_count": 15,
     "metadata": {},
     "output_type": "execute_result"
    }
   ],
   "source": [
    "pwd"
   ]
  },
  {
   "cell_type": "code",
   "execution_count": null,
   "id": "924b8c9f-db04-495e-93df-554fda746472",
   "metadata": {},
   "outputs": [],
   "source": []
  }
 ],
 "metadata": {
  "kernelspec": {
   "display_name": "Python 3 (ipykernel)",
   "language": "python",
   "name": "python3"
  },
  "language_info": {
   "codemirror_mode": {
    "name": "ipython",
    "version": 3
   },
   "file_extension": ".py",
   "mimetype": "text/x-python",
   "name": "python",
   "nbconvert_exporter": "python",
   "pygments_lexer": "ipython3",
   "version": "3.10.7"
  }
 },
 "nbformat": 4,
 "nbformat_minor": 5
}
