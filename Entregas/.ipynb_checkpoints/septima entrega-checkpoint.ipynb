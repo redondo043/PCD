{
 "cells": [
  {
   "cell_type": "markdown",
   "id": "6aa8507d-d595-44ca-86a6-6ab85ece4396",
   "metadata": {},
   "source": [
    "<!-- PROFILE LINK -->\n",
    "\n",
    "<h1 style = \"text-align:center; font-size: 30px\">PROGRAMACIÓN CONCURRENTE Y DISTRIBUIDA</h1>\n",
    "<a href =\"https://github.com/redondo043\">\n",
    "<img src=\"https://avatars.githubusercontent.com/u/114176753?v=4\" style=\"float:left;vertical-align:centre\" width=\"110\" height=\"110\" title = \"Mario Redondo del Pino 05997153H\">\n",
    "<a href =\"https://github.com/redondo043?tab=repositories\">\n",
    "<img src=\"https://media-exp1.licdn.com/dms/image/C4D0BAQEu_Aa76fcmPw/company-logo_200_200/0/1630998679429?e=2159024400&v=beta&t=2feC9GG7RWCWizTqsK5HzDWB1TL2DOQuAVwnMf6FFvk\" title = \"M21\" alt=\"UE\" width=\"110\" height=\"110\" style=\"float:right;vertical-align:centre\">"
   ]
  },
  {
   "cell_type": "markdown",
   "id": "e55c9704-821d-460d-9b1a-99040174f68b",
   "metadata": {},
   "source": [
    "# Hands on 8"
   ]
  },
  {
   "cell_type": "code",
   "execution_count": 3,
   "id": "f7bb8da8-6509-4e18-be11-791911abbfe0",
   "metadata": {},
   "outputs": [
    {
     "name": "stdout",
     "output_type": "stream",
     "text": [
      " El volumen de la unidad C no tiene etiqueta.\n",
      " El n£mero de serie del volumen es: 8CD5-9E30\n",
      "\n",
      " Directorio de C:\\Users\\mario\\OneDrive\\Documents\\UEM\\PCD\\PCD\\Entregas\n",
      "\n",
      "16/11/2022  18:04                 0 22130176.txt\n",
      "               1 archivos              0 bytes\n",
      "               0 dirs  58.259.218.432 bytes libres\n"
     ]
    }
   ],
   "source": [
    "ls 05997153.txt"
   ]
  },
  {
   "cell_type": "code",
   "execution_count": 18,
   "id": "678c3ecc-cd2a-435b-88ff-da35480833d8",
   "metadata": {},
   "outputs": [
    {
     "name": "stdin",
     "output_type": "stream",
     "text": [
      "Tu nombre sir? Chema\n",
      "Chiiiiicos escribid aqui tu maldita madre\n"
     ]
    }
   ],
   "source": [
    "with open(\"05997153.txt\", \"a\") as f: #Creación del archivo donde vamos a guardar las cosas\n",
    "    nick = input (\"Tu nombre sir?\")\n",
    "    msg = input (\"Chiiiiicos escribid aqui\")\n",
    "    f.write(nick + \": \" + msg + \"\\n\") "
   ]
  },
  {
   "cell_type": "code",
   "execution_count": 12,
   "id": "5d09aca5-48d8-46aa-8cbb-a98f2f45ffec",
   "metadata": {},
   "outputs": [],
   "source": []
  },
  {
   "cell_type": "code",
   "execution_count": null,
   "id": "54c1c332-5718-4f97-85a0-1e4f7c19caea",
   "metadata": {},
   "outputs": [],
   "source": []
  }
 ],
 "metadata": {
  "kernelspec": {
   "display_name": "Python 3 (ipykernel)",
   "language": "python",
   "name": "python3"
  },
  "language_info": {
   "codemirror_mode": {
    "name": "ipython",
    "version": 3
   },
   "file_extension": ".py",
   "mimetype": "text/x-python",
   "name": "python",
   "nbconvert_exporter": "python",
   "pygments_lexer": "ipython3",
   "version": "3.10.7"
  }
 },
 "nbformat": 4,
 "nbformat_minor": 5
}
