{
 "cells": [
  {
   "cell_type": "markdown",
   "id": "f5e177e8-7c47-4fdf-882b-0c3ebc7b540c",
   "metadata": {},
   "source": [
    "<!-- PROFILE LINK -->\n",
    "\n",
    "<h1 style = \"text-align:center; font-size: 30px\">PROGRAMACIÓN CONCURRENTE Y DISTRIBUIDA</h1>\n",
    "<a href =\"https://github.com/redondo043\">\n",
    "<img src=\"https://avatars.githubusercontent.com/u/114176753?v=4\" style=\"float:left;vertical-align:centre\" width=\"110\" height=\"110\" title = \"Mario Redondo del Pino 05997153H\">\n",
    "<a href =\"https://github.com/redondo043?tab=repositories\">\n",
    "<img src=\"https://media-exp1.licdn.com/dms/image/C4D0BAQEu_Aa76fcmPw/company-logo_200_200/0/1630998679429?e=2159024400&v=beta&t=2feC9GG7RWCWizTqsK5HzDWB1TL2DOQuAVwnMf6FFvk\" title = \"M21\" alt=\"UE\" width=\"110\" height=\"110\" style=\"float:right;vertical-align:centre\">"
   ]
  },
  {
   "cell_type": "markdown",
   "id": "f813b849-ef8d-46b8-8b69-d70dfb657f70",
   "metadata": {},
   "source": [
    "# Hands on 5"
   ]
  },
  {
   "cell_type": "code",
   "execution_count": 2,
   "id": "5de611a9-dadd-4501-9171-3fa264af5ae6",
   "metadata": {},
   "outputs": [],
   "source": [
    "import random # Para generar num. aleatorios en la A y B \n",
    "import math\n",
    "import multiprocessing as mp # Para trabajar en paralelo\n",
    "import time"
   ]
  },
  {
   "cell_type": "code",
   "execution_count": 3,
   "id": "1d733582-3527-42d0-8d96-b63b3ba59e1d",
   "metadata": {},
   "outputs": [],
   "source": [
    "def sec_mult(A, B): # f() que calcula la mult. en secuencial, como toda la vida se ha hecho \n",
    "    C = [[0] * n_col_B for i in range(n_fil_A)] # Crear y poblar la matrix  C = A*B\n",
    "    for i in range(n_fil_A): # Hago la multiplicacion de AxB = C, i para iterar sobre las filas de A\n",
    "        for j in range(n_col_B): # j para iterar sobre las columnas de B\n",
    "            for k in range(n_col_A): # k para iterar en C\n",
    "                C[i][j] += A[i][k] * B[k][j] # Aqui se hace la multiplicación y guardo en C.\n",
    "    return C"
   ]
  },
  {
   "cell_type": "code",
   "execution_count": 4,
   "id": "8c708d1d-a8f8-4279-8935-3109d4f43b04",
   "metadata": {},
   "outputs": [],
   "source": [
    "def par_mult(A, B): # f() que prepara el reparto de trabajo para la mult. en paralelo\n",
    "    n_cores = mp.cpu_count() # Obtengo los cores de mi pc\n",
    "    size_col = math.ceil(n_col_B/n_cores) # Columnas  a procesar x c/cpre, ver Excel adjunto\n",
    "    size_fil = math.ceil(n_fil_A/n_cores) # Filas a procesar x c/cpre, ver Excel adjunto\n",
    "    MC = mp.RawArray('i', n_fil_A * n_col_B) # Array MC de memoria compartida donde se almacenaran los resultados, ver excel adjunto\n",
    "    cores = [] # Array para guardar los cores y su trabajo\n",
    "    for core in range(n_cores):# Asigno a cada core el trabajo que le toca, ver excel adjunto\n",
    "        i_MC = min(core * size_fil, n_fil_A) # Calculo i para marcar inicio del trabajo del core en relacion a las filas\n",
    "        f_MC = min((core + 1) * size_fil, n_fil_A) # Calculo f para marcar fin del trabajo del core, ver excel\n",
    "        cores.append(mp.Process(target=par_core, args=(A, B, MC, i_MC, f_MC)))# Añado al Array los cores y su trabajo\n",
    "    for core in cores:\n",
    "        core.start()# Arranco y ejecuto el trabajo para c/ uno de los cores que tenga mi equipo, ver excel\n",
    "    for core in cores:\n",
    "        core.join()# Bloqueo cualquier llamada hasta que terminen su trabajo todos los cores\n",
    "    C_2D = [[0] * n_col_B for i in range(n_fil_A)] # Convierto el array unidimensional MC en una matrix 2D (C_2D) \n",
    "    for i in range(n_fil_A):# i para iterar sobre las filas de A\n",
    "        for j in range(n_col_B):# j para iterar sobre las columnas de B\n",
    "            C_2D[i][j] = MC[i*n_col_B + j] # Guardo el C_2D los datos del array MC\n",
    "    return C_2D"
   ]
  },
  {
   "cell_type": "code",
   "execution_count": 5,
   "id": "627ac241-9839-4fdb-8b66-b654011d09c6",
   "metadata": {},
   "outputs": [],
   "source": [
    "def par_core(A, B, MC, i_MC, f_MC): # La tarea que hacen todos los cores\n",
    "    for i in range(i_MC, f_MC): # Size representado en colores en el excel que itera sobre las filas en A\n",
    "        for j in range(len(B[0])): # Size representado en colores en el excel que itera sobre las columnas en B\n",
    "            for k in range(len(A[0])): # n_fil_B o lo que es l mismo el n_col_A\n",
    "                MC[i*len(B[0]) + j] += A[i][k] * B[k][j]# Guarda resultado en MC[] de cada core"
   ]
  },
  {
   "cell_type": "code",
   "execution_count": null,
   "id": "eaa40af5-2568-4950-964e-96cae8639731",
   "metadata": {},
   "outputs": [],
   "source": [
    "if __name__ == '__main__':\n",
    "    A = [[random.randint(0,215) for i in range(6)] for j in range(2153522)] # Genero A[21535220][6]con num. aleatorios del 0 al 215, ver excel \n",
    "    B = [[random.randint(0,215) for i in range(200)] for j in range(6)] # Genero B[6][21535220]con num. aleatorios del 0 al 215, ver excel\n",
    "    n_fil_A = len(A) # Obtengo num de filas de A \n",
    "    n_col_A = len(A[0]) # Obtengo num de colunmas de A \n",
    "    n_fil_B = len(B) # Obtengo num de filas de B\n",
    "    n_col_B = len(B[0]) # # Obtengo num de filas de B\n",
    "    if n_col_A != n_fil_B: raise Exception('Dimensiones no validas') # Compruebo que se puedan multiplicar A y B\n",
    "    inicioS = time.time()\n",
    "    sec_mult(A, B) # Ejecuto multiplicacion secuencial\n",
    "    finS = time.time()\n",
    "    inicioP = time.time()\n",
    "    par_mult(A, B) # Ejecuto multiplicacion paralela\n",
    "    finP = time.time()\n",
    "    print('\\n\\nMatriz  A y B se han multiplicado con exito en SECUENCIAL ha tardado ', finS-inicioS, ' y en PARALELO ', finP-inicioP)"
   ]
  },
  {
   "cell_type": "code",
   "execution_count": null,
   "id": "f2128567-c293-4ce5-a1c9-a8eed6860ace",
   "metadata": {},
   "outputs": [],
   "source": []
  }
 ],
 "metadata": {
  "kernelspec": {
   "display_name": "Python 3 (ipykernel)",
   "language": "python",
   "name": "python3"
  },
  "language_info": {
   "codemirror_mode": {
    "name": "ipython",
    "version": 3
   },
   "file_extension": ".py",
   "mimetype": "text/x-python",
   "name": "python",
   "nbconvert_exporter": "python",
   "pygments_lexer": "ipython3",
   "version": "3.10.7"
  }
 },
 "nbformat": 4,
 "nbformat_minor": 5
}
