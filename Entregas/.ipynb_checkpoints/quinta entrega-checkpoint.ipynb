{
 "cells": [
  {
   "cell_type": "markdown",
   "id": "175c784c-2bdb-4499-8126-a28b4c5e5ac8",
   "metadata": {},
   "source": [
    "<!-- PROFILE LINK -->\n",
    "\n",
    "<h1 style = \"text-align:center; font-size: 30px\">PROGRAMACIÓN CONCURRENTE Y DISTRIBUIDA</h1>\n",
    "<a href =\"https://github.com/redondo043\">\n",
    "<img src=\"https://avatars.githubusercontent.com/u/114176753?v=4\" style=\"float:left;vertical-align:centre\" width=\"110\" height=\"110\" title = \"Mario Redondo del Pino 05997153H\">\n",
    "<a href =\"https://github.com/redondo043?tab=repositories\">\n",
    "<img src=\"https://media-exp1.licdn.com/dms/image/C4D0BAQEu_Aa76fcmPw/company-logo_200_200/0/1630998679429?e=2159024400&v=beta&t=2feC9GG7RWCWizTqsK5HzDWB1TL2DOQuAVwnMf6FFvk\" title = \"M21\" alt=\"UE\" width=\"110\" height=\"110\" style=\"float:right;vertical-align:centre\">"
   ]
  },
  {
   "cell_type": "markdown",
   "id": "d5b08ffc-3d76-44f2-8246-5b401c95aab1",
   "metadata": {},
   "source": [
    "# Hands on 6"
   ]
  },
  {
   "cell_type": "code",
   "execution_count": 3,
   "id": "7b2f4f3a-9649-4ec5-8e0b-2f7b44a76083",
   "metadata": {},
   "outputs": [],
   "source": [
    "import platform as pt"
   ]
  },
  {
   "cell_type": "code",
   "execution_count": 4,
   "id": "b26fd0f0-4f68-426d-a9db-5eaa4faae36e",
   "metadata": {},
   "outputs": [
    {
     "data": {
      "text/plain": [
       "'CPython'"
      ]
     },
     "execution_count": 4,
     "metadata": {},
     "output_type": "execute_result"
    }
   ],
   "source": [
    "pt.python_implementation()"
   ]
  },
  {
   "cell_type": "code",
   "execution_count": 5,
   "id": "4b07eb2c-c7f6-462e-91be-94fb0ae54c7f",
   "metadata": {},
   "outputs": [
    {
     "data": {
      "text/plain": [
       "'Windows'"
      ]
     },
     "execution_count": 5,
     "metadata": {},
     "output_type": "execute_result"
    }
   ],
   "source": [
    "pt.system()"
   ]
  },
  {
   "cell_type": "code",
   "execution_count": 7,
   "id": "80d0f888-389f-43bb-b274-bb43d93e3557",
   "metadata": {},
   "outputs": [],
   "source": [
    "import socket as sc"
   ]
  },
  {
   "cell_type": "code",
   "execution_count": null,
   "id": "89c3f458-83b5-4a72-bba0-8f0527541d2f",
   "metadata": {},
   "outputs": [],
   "source": [
    "sc."
   ]
  }
 ],
 "metadata": {
  "kernelspec": {
   "display_name": "Python 3 (ipykernel)",
   "language": "python",
   "name": "python3"
  },
  "language_info": {
   "codemirror_mode": {
    "name": "ipython",
    "version": 3
   },
   "file_extension": ".py",
   "mimetype": "text/x-python",
   "name": "python",
   "nbconvert_exporter": "python",
   "pygments_lexer": "ipython3",
   "version": "3.10.7"
  }
 },
 "nbformat": 4,
 "nbformat_minor": 5
}
