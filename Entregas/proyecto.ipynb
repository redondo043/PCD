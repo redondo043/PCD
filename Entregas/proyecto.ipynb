{
 "cells": [
  {
   "cell_type": "markdown",
   "id": "f1a02595-96ff-4874-8b4b-cc56673df7e6",
   "metadata": {},
   "source": [
    "# proyecto"
   ]
  },
  {
   "cell_type": "code",
   "execution_count": null,
   "id": "44e7e11a-0c02-4131-a83f-221a32824486",
   "metadata": {},
   "outputs": [],
   "source": []
  }
 ],
 "metadata": {
  "kernelspec": {
   "display_name": "Python 3 (ipykernel)",
   "language": "python",
   "name": "python3"
  },
  "language_info": {
   "codemirror_mode": {
    "name": "ipython",
    "version": 3
   },
   "file_extension": ".py",
   "mimetype": "text/x-python",
   "name": "python",
   "nbconvert_exporter": "python",
   "pygments_lexer": "ipython3",
   "version": "3.10.7"
  }
 },
 "nbformat": 4,
 "nbformat_minor": 5
}
